{
 "cells": [
  {
   "cell_type": "code",
   "execution_count": 1,
   "metadata": {
    "collapsed": false
   },
   "outputs": [
    {
     "name": "stdout",
     "output_type": "stream",
     "text": [
      "module imported\n"
     ]
    }
   ],
   "source": [
    "import numpy as np\n",
    "import scipy\n",
    "from scipy import signal\n",
    "\n",
    "print(\"module imported\")"
   ]
  },
  {
   "cell_type": "code",
   "execution_count": 2,
   "metadata": {
    "collapsed": true
   },
   "outputs": [],
   "source": [
    "sampling_freq = 30  # Hz\n",
    "nyq = sampling_freq / 2\n",
    "\n",
    "#50bpm to 140bpm\n",
    "\n",
    "stopband_left_one = 900\n",
    "stopband_left_two = 1100\n",
    "stopband_right_one = 1900\n",
    "stopband_right_two = 2100\n",
    "\n",
    "tap = 67\n",
    "\n",
    "band = [0,\n",
    "        stopband_left_one,\n",
    "        stopband_left_two,\n",
    "        stopband_right_one,\n",
    "        stopband_right_two,\n",
    "        nyq]\n",
    "\n",
    "desired = [0, 0, 1, 1, 0, 0]\n",
    "\n",
    "b = signal.firls(tap, band, desired, nyq=nyq)"
   ]
  },
  {
   "cell_type": "code",
   "execution_count": null,
   "metadata": {
    "collapsed": true
   },
   "outputs": [],
   "source": []
  }
 ],
 "metadata": {
  "anaconda-cloud": {},
  "kernelspec": {
   "display_name": "Python [default]",
   "language": "python",
   "name": "python2"
  },
  "language_info": {
   "codemirror_mode": {
    "name": "ipython",
    "version": 2
   },
   "file_extension": ".py",
   "mimetype": "text/x-python",
   "name": "python",
   "nbconvert_exporter": "python",
   "pygments_lexer": "ipython2",
   "version": "2.7.12"
  }
 },
 "nbformat": 4,
 "nbformat_minor": 1
}
