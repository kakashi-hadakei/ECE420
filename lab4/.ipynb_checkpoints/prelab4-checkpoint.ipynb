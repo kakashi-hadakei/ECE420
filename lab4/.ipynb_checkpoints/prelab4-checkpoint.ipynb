{
 "cells": [
  {
   "cell_type": "code",
   "execution_count": null,
   "metadata": {
    "collapsed": true
   },
   "outputs": [],
   "source": [
    "#Hanfei Geng hgeng4"
   ]
  },
  {
   "cell_type": "code",
   "execution_count": 22,
   "metadata": {
    "collapsed": false
   },
   "outputs": [
    {
     "name": "stdout",
     "output_type": "stream",
     "text": [
      "threshold: 2000000000\n"
     ]
    },
    {
     "data": {
      "image/png": "[encoded data removed]",
      "text/plain": [
       "<matplotlib.figure.Figure at 0x7f983b322a90>"
      ]
     },
     "metadata": {},
     "output_type": "display_data"
    }
   ],
   "source": [
    "import numpy as np\n",
    "import matplotlib.pyplot as plt\n",
    "from scipy.io.wavfile import read, write\n",
    "\n",
    "FRAME_SIZE = 2048\n",
    "threshold = 2000000000\n",
    "print(\"threshold: \"+str(threshold))\n",
    "\n",
    "def ece420ProcessFrame(frame):\n",
    "    isVoiced = 0\n",
    "\n",
    "    #### YOUR CODE HERE ####\n",
    "    square = [(frame[i])**2 for i in range(len(frame))]\n",
    "    #print(sum(square))\n",
    "    \n",
    "    if sum(square) > threshold:\n",
    "        isVoiced = 1\n",
    "    return isVoiced\n",
    "\n",
    "\n",
    "################# GIVEN CODE BELOW #####################\n",
    "\n",
    "Fs, data = read('test_vector.wav')\n",
    "\n",
    "numFrames = int(len(data) / FRAME_SIZE)\n",
    "framesVoiced = np.zeros(numFrames)\n",
    "\n",
    "for i in range(numFrames):\n",
    "    frame = data[i * FRAME_SIZE : (i + 1) * FRAME_SIZE]\n",
    "    framesVoiced[i] = ece420ProcessFrame(frame.astype(float))\n",
    "\n",
    "plt.figure()\n",
    "plt.stem(framesVoiced)\n",
    "plt.title(\"if detecting voice\")\n",
    "plt.xlabel(\"frame\")\n",
    "plt.ylabel(\"yes or no\")\n",
    "plt.show()"
   ]
  },
  {
   "cell_type": "code",
   "execution_count": 26,
   "metadata": {
    "collapsed": false
   },
   "outputs": [
    {
     "data": {
      "image/png": "[encoded data removed]",
      "text/plain": [
       "<matplotlib.figure.Figure at 0x7f983b45cf10>"
      ]
     },
     "metadata": {},
     "output_type": "display_data"
    },
    {
     "data": {
      "text/plain": [
       "<matplotlib.figure.Figure at 0x7f983b45ca90>"
      ]
     },
     "metadata": {},
     "output_type": "display_data"
    }
   ],
   "source": [
    "import numpy as np\n",
    "import matplotlib.pyplot as plt\n",
    "\n",
    "fs = 8000        # Sampling Rate is 8000\n",
    "duration = 1     # 1 sec\n",
    "t = np.linspace(0,duration,duration*fs)\n",
    "freq = 10        # Tune Frequency is 10 Hz\n",
    "tune = np.sin(2*np.pi*freq*t)\n",
    "\n",
    "# Add some Gaussian noise \n",
    "tune += np.random.normal(0, 0.5, duration * fs)\n",
    "\n",
    "normalization = sum([(tune[i])**2 for i in range(len(tune))])\n",
    "\n",
    "plt.figure()\n",
    "plt.plot()\n",
    "\n",
    "# Start a new figure for your autocorrelation plot \n",
    "plt.figure() \n",
    "\n",
    "# Your code here\n",
    "\n",
    "# Only call plt.show() at the very end of the script \n",
    "plt.show()"
   ]
  },
  {
   "cell_type": "code",
   "execution_count": null,
   "metadata": {
    "collapsed": true
   },
   "outputs": [],
   "source": []
  }
 ],
 "metadata": {
  "anaconda-cloud": {},
  "kernelspec": {
   "display_name": "Python [default]",
   "language": "python",
   "name": "python2"
  },
  "language_info": {
   "codemirror_mode": {
    "name": "ipython",
    "version": 2
   },
   "file_extension": ".py",
   "mimetype": "text/x-python",
   "name": "python",
   "nbconvert_exporter": "python",
   "pygments_lexer": "ipython2",
   "version": "2.7.12"
  }
 },
 "nbformat": 4,
 "nbformat_minor": 0
}
